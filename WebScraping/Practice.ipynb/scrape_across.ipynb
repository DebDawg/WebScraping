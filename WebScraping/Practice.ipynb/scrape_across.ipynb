{
 "cells": [
  {
   "cell_type": "code",
   "execution_count": null,
   "id": "ed3fbc31",
   "metadata": {},
   "outputs": [],
   "source": [
    "from splinter import Browser\n",
    "from bs4 import BeautifulSoup as soup\n",
    "from webdriver_manager.chrome import ChromeDriverManager\n",
    "\n",
    "executable_path = {'executable_path': ChromeDriverManager().install()}\n",
    "browser = Browser('chrome', **executable_path, headless=False)\n",
    "\n",
    "url = 'http://quotes.toscrape.com/'\n",
    "browser.visit(url)\n",
    "html = browser.html\n",
    "quote_soup = soup(html, 'html.parser')"
   ]
  },
  {
   "cell_type": "code",
   "execution_count": null,
   "id": "b9ec84de",
   "metadata": {},
   "outputs": [],
   "source": [
    "# Scrape all quotes on a single page (search find span.text)\n",
    "quotes = quote_soup.find_all('span', class_='text')\n",
    "\n",
    "for quote in quotes:\n",
    "    print(quote.text)"
   ]
  },
  {
   "cell_type": "code",
   "execution_count": null,
   "id": "2224a8e3",
   "metadata": {},
   "outputs": [],
   "source": [
    "#is it next or text????\n",
    "#<li class=\"next\">\n",
    "# <a href=\"/page/2/\">\"Next \"\n",
    "#    <span = aria-hidden=\"true\">+</span>\n",
    "# </a>\n",
    "#</li>"
   ]
  },
  {
   "cell_type": "code",
   "execution_count": null,
   "id": "ccba2ac4",
   "metadata": {},
   "outputs": [],
   "source": [
    "#Print a list of all the links on the first page by finding all the anchor\n",
    "#tags. Can you find the Next button in that list? Does it confirm our \n",
    "#observation that this link doesn't have an id or class attribute?\n",
    "\n"
   ]
  },
  {
   "cell_type": "code",
   "execution_count": null,
   "id": "8be29756",
   "metadata": {},
   "outputs": [],
   "source": [
    "browser.links.find_by_partial_text('Next').click()"
   ]
  }
 ],
 "metadata": {
  "kernelspec": {
   "display_name": "Python 3 (ipykernel)",
   "language": "python",
   "name": "python3"
  },
  "language_info": {
   "codemirror_mode": {
    "name": "ipython",
    "version": 3
   },
   "file_extension": ".py",
   "mimetype": "text/x-python",
   "name": "python",
   "nbconvert_exporter": "python",
   "pygments_lexer": "ipython3",
   "version": "3.9.13"
  }
 },
 "nbformat": 4,
 "nbformat_minor": 5
}
