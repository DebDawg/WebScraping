{
 "cells": [
  {
   "cell_type": "code",
   "execution_count": 6,
   "id": "3be90501",
   "metadata": {},
   "outputs": [],
   "source": [
    "from splinter import Browser\n",
    "from bs4 import BeautifulSoup as soup\n",
    "from webdriver_manager.chrome import ChromeDriverManager"
   ]
  },
  {
   "cell_type": "code",
   "execution_count": null,
   "id": "a464dda1",
   "metadata": {},
   "outputs": [],
   "source": [
    "# Set up Splinter\n",
    "executable_path = {'executable_path': ChromeDriverManager().install()}\n",
    "browser = Browser('chrome', **executable_path, headless=False)"
   ]
  },
  {
   "cell_type": "code",
   "execution_count": null,
   "id": "474a9dd5",
   "metadata": {},
   "outputs": [],
   "source": [
    "# Visit the Quotes to Scrape site\n",
    "url = 'http://quotes.toscrape.com/'\n",
    "chromebrowser.visit(url)"
   ]
  },
  {
   "cell_type": "code",
   "execution_count": null,
   "id": "4c6ae198",
   "metadata": {},
   "outputs": [],
   "source": [
    "# Parse the HTML\n",
    "html = browser.html\n",
    "html_soup = soup(html, 'html.parser')\n"
   ]
  },
  {
   "cell_type": "code",
   "execution_count": null,
   "id": "dba29fe8",
   "metadata": {},
   "outputs": [],
   "source": [
    "# Scrape the Title\n",
    "h2 = html_soup.find('h2')\n",
    "title = h2.text\n",
    "print(h2)\n",
    "print(title)\n"
   ]
  },
  {
   "cell_type": "code",
   "execution_count": null,
   "id": "572f1372",
   "metadata": {},
   "outputs": [],
   "source": [
    "title = html_soup.find('h2').text"
   ]
  },
  {
   "cell_type": "code",
   "execution_count": null,
   "id": "ba021108",
   "metadata": {},
   "outputs": [],
   "source": [
    "# Scrape the top ten tags (new variable tag-box, use class_ reserved word in Python)\n",
    "tag_box = html_soup.find('div', class_='tags-box')\n",
    "# tag_box (a= anchor and find /find_all)\n",
    "tags = tag_box.find_all('a', class_='tag')\n",
    "\n",
    "#We added a for loop. This loop cycles through the tags in the tags variable, \n",
    "#extracts the HTML code from each, and then prints only the text of each tag\n",
    "for tag in tags:\n",
    "    word = tag.text\n",
    "    print(word)"
   ]
  },
  {
   "cell_type": "code",
   "execution_count": null,
   "id": "eab140e5",
   "metadata": {},
   "outputs": [],
   "source": [
    "browser.quit()\n"
   ]
  },
  {
   "cell_type": "code",
   "execution_count": null,
   "id": "e5dcbc3b",
   "metadata": {},
   "outputs": [],
   "source": []
  }
 ],
 "metadata": {
  "kernelspec": {
   "display_name": "Python 3 (ipykernel)",
   "language": "python",
   "name": "python3"
  },
  "language_info": {
   "codemirror_mode": {
    "name": "ipython",
    "version": 3
   },
   "file_extension": ".py",
   "mimetype": "text/x-python",
   "name": "python",
   "nbconvert_exporter": "python",
   "pygments_lexer": "ipython3",
   "version": "3.9.13"
  }
 },
 "nbformat": 4,
 "nbformat_minor": 5
}
