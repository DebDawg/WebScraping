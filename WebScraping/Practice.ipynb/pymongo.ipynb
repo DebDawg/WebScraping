{
 "cells": [
  {
   "cell_type": "code",
   "execution_count": 2,
   "id": "01e167bd",
   "metadata": {},
   "outputs": [],
   "source": [
    "from pymongo import MongoClient\n",
    "mongo = MongoClient(port=27017)"
   ]
  },
  {
   "cell_type": "code",
   "execution_count": 3,
   "id": "73673b1d",
   "metadata": {},
   "outputs": [
    {
     "name": "stdout",
     "output_type": "stream",
     "text": [
      "['admin', 'config', 'local']\n"
     ]
    }
   ],
   "source": [
    "print(mongo.list_database_names())\n"
   ]
  },
  {
   "cell_type": "code",
   "execution_count": 4,
   "id": "f9420624",
   "metadata": {},
   "outputs": [],
   "source": [
    "my_first_db = mongo['my_db']"
   ]
  },
  {
   "cell_type": "code",
   "execution_count": 5,
   "id": "827dfc4c",
   "metadata": {},
   "outputs": [
    {
     "name": "stdout",
     "output_type": "stream",
     "text": [
      "['admin', 'config', 'local']\n"
     ]
    }
   ],
   "source": [
    "print(mongo.list_database_names())"
   ]
  },
  {
   "cell_type": "code",
   "execution_count": 6,
   "id": "b2fd0bc2",
   "metadata": {},
   "outputs": [
    {
     "data": {
      "text/plain": [
       "[]"
      ]
     },
     "execution_count": 6,
     "metadata": {},
     "output_type": "execute_result"
    }
   ],
   "source": [
    "#The following code creates a collection called my_collection and assigns \n",
    "# it to the variable my_first_collection. Then it checks for the existence \n",
    "#of the collection.\n",
    "my_first_collection = my_first_db['my_collection']\n",
    "my_first_db.list_collection_names()\n"
   ]
  },
  {
   "cell_type": "code",
   "execution_count": 7,
   "id": "be311222",
   "metadata": {},
   "outputs": [
    {
     "data": {
      "text/plain": [
       "<pymongo.results.InsertOneResult at 0x7f7e8aa01ee0>"
      ]
     },
     "execution_count": 7,
     "metadata": {},
     "output_type": "execute_result"
    }
   ],
   "source": [
    "#inserts a Python dictionary\n",
    "#In this code, the insert_one method is called by the collection \n",
    "#(not the document), and takes a simple dictionary as its argument.\n",
    "my_first_collection.insert_one({'name': 'Mickey'})"
   ]
  },
  {
   "cell_type": "code",
   "execution_count": 8,
   "id": "99dd513b",
   "metadata": {},
   "outputs": [
    {
     "name": "stdout",
     "output_type": "stream",
     "text": [
      "['admin', 'config', 'local', 'my_db']\n",
      "['my_collection']\n"
     ]
    }
   ],
   "source": [
    "print(mongo.list_database_names())\n",
    "print(my_first_db.list_collection_names())\n"
   ]
  },
  {
   "cell_type": "code",
   "execution_count": 13,
   "id": "a934aac6",
   "metadata": {},
   "outputs": [
    {
     "data": {
      "text/plain": [
       "<pymongo.results.InsertOneResult at 0x7f7e8aa01cd0>"
      ]
     },
     "execution_count": 13,
     "metadata": {},
     "output_type": "execute_result"
    }
   ],
   "source": [
    "# SKILL DRILL: Add a document to the collection by inserting a dictionary of a \n",
    "# character whose name is \"Minnie\" and whose age is 90.\n",
    "my_first_collection.insert_one({'name': 'Minnie', 'age' : '90'})\n"
   ]
  },
  {
   "cell_type": "code",
   "execution_count": 15,
   "id": "9c45a3e6",
   "metadata": {},
   "outputs": [
    {
     "name": "stdout",
     "output_type": "stream",
     "text": [
      "{'_id': ObjectId('638d4acbf12e8dc75636dc4f'), 'name': 'Mickey'}\n",
      "{'_id': ObjectId('638d4c4bf12e8dc75636dc50'), 'name': 'Minnie'}\n",
      "{'_id': ObjectId('638d4c90f12e8dc75636dc51'), 'name': 'Minnie', 'age': '90'}\n"
     ]
    }
   ],
   "source": [
    "results = my_first_collection.find()\n",
    "for result in results:\n",
    "    print(result)"
   ]
  },
  {
   "cell_type": "code",
   "execution_count": 16,
   "id": "edb8b97e",
   "metadata": {},
   "outputs": [
    {
     "name": "stdout",
     "output_type": "stream",
     "text": [
      "{'_id': ObjectId('638d4acbf12e8dc75636dc4f'), 'name': 'Mickey'}\n",
      "{'_id': ObjectId('638d4c4bf12e8dc75636dc50'), 'name': 'Minnie'}\n",
      "{'_id': ObjectId('638d4c90f12e8dc75636dc51'), 'name': 'Minnie', 'age': '90'}\n",
      "{'_id': 3, 'name': 'Goofy', 'age': 87, 'species': 'dog'}\n"
     ]
    }
   ],
   "source": [
    "goofy = {'_id':3, 'name': 'Goofy', 'age': 87, 'species': 'dog'}\n",
    "my_first_collection.insert_one(goofy)\n",
    "\n",
    "results = my_first_collection.find()\n",
    "for result in results:\n",
    "    print(result)"
   ]
  },
  {
   "cell_type": "code",
   "execution_count": 17,
   "id": "2f421a3c",
   "metadata": {},
   "outputs": [
    {
     "data": {
      "text/plain": [
       "<pymongo.results.InsertManyResult at 0x7f7e89d970d0>"
      ]
     },
     "execution_count": 17,
     "metadata": {},
     "output_type": "execute_result"
    }
   ],
   "source": [
    "animals = [{'name': 'Donald', 'species': 'duck'}, {'name': 'Daisy', 'species': 'duck'}]\n",
    "my_first_collection.insert_many(animals)\n"
   ]
  },
  {
   "cell_type": "code",
   "execution_count": 18,
   "id": "de9d18e3",
   "metadata": {},
   "outputs": [
    {
     "name": "stdout",
     "output_type": "stream",
     "text": [
      "{'_id': ObjectId('638d4acbf12e8dc75636dc4f'), 'name': 'Mickey'}\n",
      "{'_id': ObjectId('638d4c4bf12e8dc75636dc50'), 'name': 'Minnie'}\n",
      "{'_id': ObjectId('638d4c90f12e8dc75636dc51'), 'name': 'Minnie', 'age': '90'}\n",
      "{'_id': 3, 'name': 'Goofy', 'age': 87, 'species': 'dog'}\n",
      "{'_id': ObjectId('638d4d14f12e8dc75636dc52'), 'name': 'Donald', 'species': 'duck'}\n",
      "{'_id': ObjectId('638d4d14f12e8dc75636dc53'), 'name': 'Daisy', 'species': 'duck'}\n"
     ]
    }
   ],
   "source": [
    "results = my_first_collection.find()\n",
    "for result in results:\n",
    "    print(result)"
   ]
  },
  {
   "cell_type": "code",
   "execution_count": 19,
   "id": "a8aca798",
   "metadata": {},
   "outputs": [
    {
     "name": "stdout",
     "output_type": "stream",
     "text": [
      "{'_id': ObjectId('638d4d14f12e8dc75636dc52'), 'name': 'Donald', 'species': 'duck'}\n"
     ]
    }
   ],
   "source": [
    "query = {'name': 'Donald'}\n",
    "results = my_first_collection.find(query)\n",
    "for result in results:\n",
    "    print(result)"
   ]
  },
  {
   "cell_type": "code",
   "execution_count": 20,
   "id": "458228c1",
   "metadata": {},
   "outputs": [],
   "source": [
    "# SKILL DRILL: \n",
    "query = {'species': 'duck'}\n",
    "results = my_first_collection.find(query)"
   ]
  },
  {
   "cell_type": "code",
   "execution_count": 21,
   "id": "f8cb1bb5",
   "metadata": {},
   "outputs": [
    {
     "data": {
      "text/plain": [
       "[{'_id': 3, 'name': 'Goofy', 'age': 87, 'species': 'dog'}]"
      ]
     },
     "execution_count": 21,
     "metadata": {},
     "output_type": "execute_result"
    }
   ],
   "source": [
    "# $gt = mongo and greater than\n",
    "query = {'age': {'$gt':85}}\n",
    "results = my_first_collection.find(query)\n",
    "[result for result in results]"
   ]
  },
  {
   "cell_type": "code",
   "execution_count": 25,
   "id": "71b3f365",
   "metadata": {},
   "outputs": [
    {
     "data": {
      "text/plain": [
       "[{'_id': ObjectId('638d4d14f12e8dc75636dc52'),\n",
       "  'name': 'Donald',\n",
       "  'species': 'duck'}]"
      ]
     },
     "execution_count": 25,
     "metadata": {},
     "output_type": "execute_result"
    }
   ],
   "source": [
    "#SKILL DRILL:Filter for all documents over age 88 / Retrieve all documents for characters \n",
    "# whose age is less than 88 by using the comparison operator for \"less than,\" $lt. \n",
    "#Don't forget the quotation marks around the comparison operator!\n",
    "# Filter for characters whose names start with a letter that comes after \"E\".\n",
    "query = {'age' : {'$lt':88}}\n",
    "results = my_first_collection.find(query)\n",
    "[result for results in results]\n",
    "                                  "
   ]
  },
  {
   "cell_type": "code",
   "execution_count": 26,
   "id": "c4efbfaa",
   "metadata": {},
   "outputs": [
    {
     "data": {
      "text/plain": [
       "[{'_id': ObjectId('638d4acbf12e8dc75636dc4f'), 'name': 'Mickey Mouse'},\n",
       " {'_id': ObjectId('638d4c4bf12e8dc75636dc50'), 'name': 'Minnie'},\n",
       " {'_id': ObjectId('638d4c90f12e8dc75636dc51'), 'name': 'Minnie', 'age': '90'},\n",
       " {'_id': 3, 'name': 'Goofy', 'age': 87, 'species': 'dog'},\n",
       " {'_id': ObjectId('638d4d14f12e8dc75636dc52'),\n",
       "  'name': 'Donald',\n",
       "  'species': 'duck'},\n",
       " {'_id': ObjectId('638d4d14f12e8dc75636dc53'),\n",
       "  'name': 'Daisy',\n",
       "  'species': 'duck'}]"
      ]
     },
     "execution_count": 26,
     "metadata": {},
     "output_type": "execute_result"
    }
   ],
   "source": [
    "# update arguement using update_one\n",
    "query = {'name': 'Mickey'}\n",
    "update = {'$set': {'name': 'Mickey Mouse'}}\n",
    "my_first_collection.update_one(query, update)\n",
    "[r for r in my_first_collection.find()]"
   ]
  },
  {
   "cell_type": "code",
   "execution_count": 27,
   "id": "c100a2f1",
   "metadata": {},
   "outputs": [
    {
     "data": {
      "text/plain": [
       "[{'_id': ObjectId('638d4acbf12e8dc75636dc4f'), 'name': 'Mickey Mouse'},\n",
       " {'_id': ObjectId('638d4c4bf12e8dc75636dc50'), 'name': 'Minnie Mouse'},\n",
       " {'_id': ObjectId('638d4c90f12e8dc75636dc51'), 'name': 'Minnie', 'age': '90'},\n",
       " {'_id': 3, 'name': 'Goofy', 'age': 87, 'species': 'dog'},\n",
       " {'_id': ObjectId('638d4d14f12e8dc75636dc52'),\n",
       "  'name': 'Donald',\n",
       "  'species': 'duck'},\n",
       " {'_id': ObjectId('638d4d14f12e8dc75636dc53'),\n",
       "  'name': 'Daisy',\n",
       "  'species': 'duck'}]"
      ]
     },
     "execution_count": 27,
     "metadata": {},
     "output_type": "execute_result"
    }
   ],
   "source": [
    "query = {'name': 'Minnie'}\n",
    "update = {'$set': {'name': 'Minnie Mouse'}}\n",
    "my_first_collection.update_one(query, update)\n",
    "[r for r in my_first_collection.find()]"
   ]
  },
  {
   "cell_type": "code",
   "execution_count": 28,
   "id": "9768cc65",
   "metadata": {},
   "outputs": [
    {
     "data": {
      "text/plain": [
       "[{'_id': ObjectId('638d4acbf12e8dc75636dc4f'), 'name': 'Mickey Mouse'},\n",
       " {'_id': ObjectId('638d4c4bf12e8dc75636dc50'), 'name': 'Minnie Mouse'},\n",
       " {'_id': 3, 'name': 'Goofy', 'age': 87, 'species': 'dog'},\n",
       " {'_id': ObjectId('638d4d14f12e8dc75636dc52'),\n",
       "  'name': 'Donald',\n",
       "  'species': 'duck'},\n",
       " {'_id': ObjectId('638d4d14f12e8dc75636dc53'),\n",
       "  'name': 'Daisy',\n",
       "  'species': 'duck'}]"
      ]
     },
     "execution_count": 28,
     "metadata": {},
     "output_type": "execute_result"
    }
   ],
   "source": [
    "# Delete a document\n",
    "\n",
    "query = {'name': 'Minnie'}\n",
    "my_first_collection.delete_one(query)\n",
    "[r for r in my_first_collection.find()]"
   ]
  },
  {
   "cell_type": "code",
   "execution_count": null,
   "id": "d1fbaa8f",
   "metadata": {},
   "outputs": [],
   "source": [
    "# SKILL DRILL: Delete a document in which age is greater than 88, and then display the \n",
    "#collection to confirm the deletion. Hint: Use a comparison operator. Delete a document \n",
    "#whose _id is 3. Display the collection to confirm the deletion.\n",
    "query = {'$gt': '88'}\n",
    "my_first_collection.delete_many(query)\n",
    "[r for r in my_first_collection.find()]"
   ]
  },
  {
   "cell_type": "code",
   "execution_count": 29,
   "id": "aee0822c",
   "metadata": {},
   "outputs": [
    {
     "data": {
      "text/plain": [
       "[{'_id': ObjectId('638d4acbf12e8dc75636dc4f'), 'name': 'Mickey Mouse'},\n",
       " {'_id': ObjectId('638d4c4bf12e8dc75636dc50'), 'name': 'Minnie Mouse'},\n",
       " {'_id': 3, 'name': 'Goofy', 'age': 87, 'species': 'dog'}]"
      ]
     },
     "execution_count": 29,
     "metadata": {},
     "output_type": "execute_result"
    }
   ],
   "source": [
    "query = {'species': 'duck'}\n",
    "my_first_collection.delete_many(query)\n",
    "[r for r in my_first_collection.find()]"
   ]
  },
  {
   "cell_type": "code",
   "execution_count": 31,
   "id": "ccbdbcfa",
   "metadata": {},
   "outputs": [
    {
     "data": {
      "text/plain": [
       "{'nIndexesWas': 1, 'ns': 'my_db.my_collection', 'ok': 1.0}"
      ]
     },
     "execution_count": 31,
     "metadata": {},
     "output_type": "execute_result"
    }
   ],
   "source": [
    "my_first_db.drop_collection('my_collection')"
   ]
  },
  {
   "cell_type": "code",
   "execution_count": 32,
   "id": "08161080",
   "metadata": {},
   "outputs": [
    {
     "data": {
      "text/plain": [
       "[]"
      ]
     },
     "execution_count": 32,
     "metadata": {},
     "output_type": "execute_result"
    }
   ],
   "source": [
    "#Listing the collection names returns an empty list, which confirms \n",
    "# that the collection was indeed deleted from the database.\n",
    "my_first_db.list_collection_names()\n"
   ]
  },
  {
   "cell_type": "code",
   "execution_count": 33,
   "id": "493b22b0",
   "metadata": {},
   "outputs": [],
   "source": [
    "mongo.drop_database('my_db')"
   ]
  },
  {
   "cell_type": "code",
   "execution_count": 34,
   "id": "bc5b4897",
   "metadata": {},
   "outputs": [
    {
     "data": {
      "text/plain": [
       "['admin', 'config', 'local']"
      ]
     },
     "execution_count": 34,
     "metadata": {},
     "output_type": "execute_result"
    }
   ],
   "source": [
    "mongo.list_database_names()"
   ]
  },
  {
   "cell_type": "code",
   "execution_count": null,
   "id": "5973d278",
   "metadata": {},
   "outputs": [],
   "source": []
  }
 ],
 "metadata": {
  "kernelspec": {
   "display_name": "Python 3 (ipykernel)",
   "language": "python",
   "name": "python3"
  },
  "language_info": {
   "codemirror_mode": {
    "name": "ipython",
    "version": 3
   },
   "file_extension": ".py",
   "mimetype": "text/x-python",
   "name": "python",
   "nbconvert_exporter": "python",
   "pygments_lexer": "ipython3",
   "version": "3.9.13"
  }
 },
 "nbformat": 4,
 "nbformat_minor": 5
}
