{
 "cells": [
  {
   "cell_type": "code",
   "execution_count": 1,
   "id": "c498344b",
   "metadata": {},
   "outputs": [],
   "source": [
    "from bs4 import BeautifulSoup as soup\n"
   ]
  },
  {
   "cell_type": "code",
   "execution_count": 2,
   "id": "c2194ccd",
   "metadata": {},
   "outputs": [],
   "source": [
    "#use the Beautiful Soup library to parse HTML code\n",
    "\n",
    "html = \"\"\"\n",
    "<!DOCTYPE html>\n",
    "<html lang=\"en\">\n",
    "\n",
    "<head>\n",
    "    <meta charset=\"UTF-8\">\n",
    "    <meta http-equiv=\"X-UA-Compatible\" content=\"IE=edge\">\n",
    "    <meta name=\"viewport\" content=\"width=device-width, initial-scale=1.0\">\n",
    "    <title>Document</title>\n",
    "</head>\n",
    "\n",
    "<style>\n",
    "    .even {\n",
    "        color: blue;\n",
    "    }\n",
    "\n",
    "    .odd {\n",
    "        color: green;\n",
    "    }\n",
    "</style>\n",
    "\n",
    "<body>\n",
    "    <div>\n",
    "        <p class=\"odd\" id=\"first\">First</p>\n",
    "        <p class=\"even\" id=\"second\">Second</p>\n",
    "        <p class=\"odd\" id=\"third\">Third</p>\n",
    "    </div>\n",
    "\n",
    "    <div>\n",
    "        <p class=\"even\" id=\"fourth\">Fourth</p>\n",
    "        <p class=\"odd\" id=\"fifth\">Fifth</p>\n",
    "        <p class=\"even\" id=\"sixth\">Sixth</p>\n",
    "    </div>\n",
    "</body>\n",
    "\n",
    "</html>\n",
    "\"\"\""
   ]
  },
  {
   "cell_type": "code",
   "execution_count": 3,
   "id": "9a0805e4",
   "metadata": {},
   "outputs": [],
   "source": [
    "#converts the HTML string into a Beautiful Soup object\n",
    "html_soup = soup(html, 'html.parser')"
   ]
  },
  {
   "cell_type": "code",
   "execution_count": 4,
   "id": "644d3663",
   "metadata": {},
   "outputs": [],
   "source": [
    "#use that object to choose and retrieve specific parts of the HTML code\n",
    "#In the preceding code, notice that we use the Beautiful Soup find_all method. Whereas the find method returns the first result of a search, the find_all method returns all the results. And, this method takes two arguments:\n",
    "#The first argument, \"p\", specifies that we're searching for paragraphs—that is, p elements.\n",
    "#The second argument, class_=\"odd\", specifies that the elements must belong to the odd class\n",
    "odds = html_soup.find_all(\"p\", class_=\"odd\")\n",
    "#class is a reserved word in Python"
   ]
  },
  {
   "cell_type": "code",
   "execution_count": 5,
   "id": "a6007a0c",
   "metadata": {},
   "outputs": [
    {
     "name": "stdout",
     "output_type": "stream",
     "text": [
      "<p class=\"odd\" id=\"first\">First</p>\n",
      "<p class=\"odd\" id=\"third\">Third</p>\n",
      "<p class=\"odd\" id=\"fifth\">Fifth</p>\n"
     ]
    }
   ],
   "source": [
    "#assign the results of this search to the odds variable.\n",
    "for odd in odds:\n",
    "    print(odd)\n"
   ]
  },
  {
   "cell_type": "code",
   "execution_count": 6,
   "id": "e83e8feb",
   "metadata": {},
   "outputs": [],
   "source": [
    "#Use a for loop to print only the text of each paragraph. You can do so by using the text attribute.\n",
    "doc_paragraph = html_soup.find(\"p\").text\n"
   ]
  },
  {
   "cell_type": "code",
   "execution_count": 8,
   "id": "5f58b959",
   "metadata": {},
   "outputs": [],
   "source": [
    "#Then try doing the same task by using a Python list comprehension Links to an external site.. Finally, try printing the text of all the p elements that belong to the even class.\n",
    "even = html_soup.find_all(\"p\", class_=\"even\")"
   ]
  },
  {
   "cell_type": "code",
   "execution_count": 9,
   "id": "ca9a1e43",
   "metadata": {},
   "outputs": [
    {
     "name": "stdout",
     "output_type": "stream",
     "text": [
      "<p class=\"even\" id=\"second\">Second</p>\n",
      "<p class=\"even\" id=\"fourth\">Fourth</p>\n",
      "<p class=\"even\" id=\"sixth\">Sixth</p>\n"
     ]
    }
   ],
   "source": [
    "for even in even:\n",
    "    print(even)"
   ]
  },
  {
   "cell_type": "code",
   "execution_count": 10,
   "id": "f56bb5c3",
   "metadata": {},
   "outputs": [
    {
     "name": "stdout",
     "output_type": "stream",
     "text": [
      "First\n"
     ]
    }
   ],
   "source": [
    "#using the id selector. Recall that a class can contain multiple elements \n",
    "#but that an id must be unique.\n",
    "first = html_soup.find(\"p\", id=\"first\")\n",
    "print(first.text)"
   ]
  },
  {
   "cell_type": "code",
   "execution_count": null,
   "id": "bdb66a4d",
   "metadata": {},
   "outputs": [],
   "source": [
    "#In the preceding code, the logic is much the same as before. \n",
    "#But, we use the find method instead of find_all and the id argument instead of class_.\n"
   ]
  }
 ],
 "metadata": {
  "kernelspec": {
   "display_name": "Python 3 (ipykernel)",
   "language": "python",
   "name": "python3"
  },
  "language_info": {
   "codemirror_mode": {
    "name": "ipython",
    "version": 3
   },
   "file_extension": ".py",
   "mimetype": "text/x-python",
   "name": "python",
   "nbconvert_exporter": "python",
   "pygments_lexer": "ipython3",
   "version": "3.9.13"
  }
 },
 "nbformat": 4,
 "nbformat_minor": 5
}
