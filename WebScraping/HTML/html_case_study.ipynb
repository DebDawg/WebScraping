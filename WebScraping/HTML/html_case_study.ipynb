{
 "cells": [
  {
   "cell_type": "code",
   "execution_count": 2,
   "id": "533f5ea9",
   "metadata": {},
   "outputs": [],
   "source": [
    "# Note* Recall that Beautiful Soup is the library that we use to parse an \n",
    "#HTML document—so we can choose and extract the information that we want from it.\n",
    "\n",
    "from bs4 import BeautifulSoup as soup"
   ]
  },
  {
   "cell_type": "code",
   "execution_count": 3,
   "id": "95ff0239",
   "metadata": {},
   "outputs": [],
   "source": [
    "#Python string.\n",
    "\n",
    "html = \"\"\"\n",
    "<!DOCTYPE html>\n",
    "<html lang=\"en\">\n",
    "\n",
    "<head>\n",
    "    <meta charset=\"UTF-8\">\n",
    "    <meta http-equiv=\"X-UA-Compatible\" content=\"IE=edge\">\n",
    "    <meta name=\"viewport\" content=\"width=device-width, initial-scale=1.0\">\n",
    "    <title>Document</title>\n",
    "</head>\n",
    "\n",
    "<body>\n",
    "    <div>\n",
    "        <h2>First heading</h2>\n",
    "        <p>First paragraph</p>\n",
    "    </div>\n",
    "\n",
    "    <div>\n",
    "        <h2>Second heading</h2>\n",
    "        <p>Second heading</p>\n",
    "    </div>\n",
    "</body>\n",
    "\n",
    "</html>\n",
    "\"\"\""
   ]
  },
  {
   "cell_type": "code",
   "execution_count": 4,
   "id": "60363c93",
   "metadata": {},
   "outputs": [
    {
     "name": "stdout",
     "output_type": "stream",
     "text": [
      "<!DOCTYPE html>\n",
      "<html lang=\"en\">\n",
      " <head>\n",
      "  <meta charset=\"utf-8\"/>\n",
      "  <meta content=\"IE=edge\" http-equiv=\"X-UA-Compatible\"/>\n",
      "  <meta content=\"width=device-width, initial-scale=1.0\" name=\"viewport\"/>\n",
      "  <title>\n",
      "   Document\n",
      "  </title>\n",
      " </head>\n",
      " <body>\n",
      "  <div>\n",
      "   <h2>\n",
      "    First heading\n",
      "   </h2>\n",
      "   <p>\n",
      "    First paragraph\n",
      "   </p>\n",
      "  </div>\n",
      "  <div>\n",
      "   <h2>\n",
      "    Second heading\n",
      "   </h2>\n",
      "   <p>\n",
      "    Second heading\n",
      "   </p>\n",
      "  </div>\n",
      " </body>\n",
      "</html>\n",
      "\n"
     ]
    }
   ],
   "source": [
    "#first line parses that block by using Beautiful Soup\n",
    "html_soup = soup(html, 'html.parser')\n",
    "print(html_soup.prettify())\n"
   ]
  },
  {
   "cell_type": "code",
   "execution_count": 5,
   "id": "828d7f45",
   "metadata": {},
   "outputs": [
    {
     "data": {
      "text/plain": [
       "<title>Document</title>"
      ]
     },
     "execution_count": 5,
     "metadata": {},
     "output_type": "execute_result"
    }
   ],
   "source": [
    "html_soup.title\n"
   ]
  },
  {
   "cell_type": "code",
   "execution_count": 6,
   "id": "d10119e0",
   "metadata": {},
   "outputs": [
    {
     "data": {
      "text/plain": [
       "<title>Document</title>"
      ]
     },
     "execution_count": 6,
     "metadata": {},
     "output_type": "execute_result"
    }
   ],
   "source": [
    "# HTML code of the title element. Specifically, it returns <title>Document</title>. \n",
    "#That is, html_soup is an object that holds the parsed HTML code. And, its title attribute contains the HTML code of the title.\n",
    "\n",
    "html_soup.title"
   ]
  },
  {
   "cell_type": "code",
   "execution_count": 7,
   "id": "0bfe43a2",
   "metadata": {},
   "outputs": [
    {
     "name": "stdout",
     "output_type": "stream",
     "text": [
      "Document\n"
     ]
    }
   ],
   "source": [
    "#text of the title element \n",
    "doc_title = html_soup.title.text\n",
    "print(doc_title)"
   ]
  },
  {
   "cell_type": "code",
   "execution_count": 8,
   "id": "b746585b",
   "metadata": {},
   "outputs": [
    {
     "name": "stdout",
     "output_type": "stream",
     "text": [
      "<div>\n",
      "<h2>First heading</h2>\n",
      "<p>First paragraph</p>\n",
      "</div>\n"
     ]
    }
   ],
   "source": [
    "#retrieve an element that contains other elements within it\n",
    "div = html_soup.find(\"div\")\n",
    "print(div)"
   ]
  },
  {
   "cell_type": "code",
   "execution_count": 9,
   "id": "d1c619d3",
   "metadata": {},
   "outputs": [],
   "source": [
    "#Now that we know that the Beautiful Soup find method returns the first \n",
    "#instance of an element, let's use it to retrieve the text of the first h2 element in the HTML document\n",
    "doc_heading = html_soup.find(\"h2\").text\n"
   ]
  },
  {
   "cell_type": "code",
   "execution_count": 10,
   "id": "a17d61b0",
   "metadata": {},
   "outputs": [],
   "source": [
    "#scraping the text of the first paragraph (p) element on the page and saving it to a variable named doc_paragraph\n",
    "doc_paragraph = html_soup.find(\"p\").text\n"
   ]
  },
  {
   "cell_type": "code",
   "execution_count": 11,
   "id": "d6fc23ab",
   "metadata": {},
   "outputs": [],
   "source": [
    "#store the information that we scraped in a Python data structure\n",
    "\n",
    "doc_info = {\"title\": doc_title,\n",
    "            \"heading\": doc_heading,\n",
    "            \"paragraph\": doc_paragraph}"
   ]
  },
  {
   "cell_type": "code",
   "execution_count": null,
   "id": "6e3d7073",
   "metadata": {},
   "outputs": [],
   "source": []
  }
 ],
 "metadata": {
  "kernelspec": {
   "display_name": "Python 3 (ipykernel)",
   "language": "python",
   "name": "python3"
  },
  "language_info": {
   "codemirror_mode": {
    "name": "ipython",
    "version": 3
   },
   "file_extension": ".py",
   "mimetype": "text/x-python",
   "name": "python",
   "nbconvert_exporter": "python",
   "pygments_lexer": "ipython3",
   "version": "3.9.13"
  }
 },
 "nbformat": 4,
 "nbformat_minor": 5
}
