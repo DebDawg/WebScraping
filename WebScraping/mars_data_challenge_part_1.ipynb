{
 "cells": [
  {
   "cell_type": "code",
   "execution_count": 6,
   "id": "69f08844",
   "metadata": {},
   "outputs": [],
   "source": [
    "# Import Splinter and BeautifulSoup\n",
    "from splinter import Browser\n",
    "from bs4 import BeautifulSoup as soup\n",
    "from webdriver_manager.chrome import ChromeDriverManager"
   ]
  },
  {
   "cell_type": "code",
   "execution_count": null,
   "id": "355c4c17",
   "metadata": {},
   "outputs": [],
   "source": [
    "# Open Browser\n",
    "executable_path = {'executable_path':\"/user/Applications/Google/Chrome/Chromedriver.exe\"}\n",
    "browser = Browser('chrome', **executable_path, headless=False)\n"
   ]
  },
  {
   "cell_type": "code",
   "execution_count": null,
   "id": "18f588e2",
   "metadata": {},
   "outputs": [],
   "source": [
    "# Visit the Mars NASA news site\n",
    "url = 'https://redplanetscience.com'\n",
    "browser.visit(url)\n",
    "\n",
    "# Optional delay for loading the page\n",
    "browser.is_element_present_by_css('div.list_text', wait_time=1)"
   ]
  },
  {
   "cell_type": "code",
   "execution_count": null,
   "id": "19c08911",
   "metadata": {},
   "outputs": [],
   "source": [
    "# Beautiful Soup (scrape title/parse HTML)\n",
    "html = browser.html\n",
    "news_soup = soup(html, 'html.parser')"
   ]
  },
  {
   "cell_type": "code",
   "execution_count": null,
   "id": "012aca59",
   "metadata": {},
   "outputs": [],
   "source": [
    "articles = []\n",
    "text = soup.find_all(\"div\", class_=\"list_text\")\n",
    "\n",
    "for i in text:\n",
    "    title = i.find(\"div\", class_=\"content_title\").text\n",
    "    preview = i.find(\"div\", class_=\"article_teaser_body\").text\n",
    "    article_dict = {\"Title\": title, \"Preview\": preview}\n",
    "    articles.append(article_dict)\n",
    "print(articles)"
   ]
  },
  {
   "cell_type": "code",
   "execution_count": null,
   "id": "8644012b",
   "metadata": {},
   "outputs": [],
   "source": [
    "browser.quit()"
   ]
  }
 ],
 "metadata": {
  "kernelspec": {
   "display_name": "Python 3 (ipykernel)",
   "language": "python",
   "name": "python3"
  },
  "language_info": {
   "codemirror_mode": {
    "name": "ipython",
    "version": 3
   },
   "file_extension": ".py",
   "mimetype": "text/x-python",
   "name": "python",
   "nbconvert_exporter": "python",
   "pygments_lexer": "ipython3",
   "version": "3.9.13"
  }
 },
 "nbformat": 4,
 "nbformat_minor": 5
}
